{
 "cells": [
  {
   "cell_type": "markdown",
   "id": "84327465-ebcb-4d37-8652-af5cf8084a56",
   "metadata": {},
   "source": [
    "# 情報活用講座：　SHAP編"
   ]
  },
  {
   "cell_type": "markdown",
   "id": "63e11252-d115-4d75-950c-2112fa6a2d4e",
   "metadata": {},
   "source": [
    "## データセット\n",
    "\"California Housing\" は、アメリカ・カリフォルニア州の住宅価格に関するデータを収集したデータセットです。このデータセットは、機械学習やデータ分析の教育や研究でよく使用され、住宅価格を予測するためのモデルを構築する際に役立ちます。\n",
    "\n",
    "California Housingデータセットには、住宅価格を予測するための9種類の特徴量があります。\n",
    "\n",
    "1. **MedInc**: 地域内の家計の収入（中央値）。  世帯収入の指標となります。\n",
    "1. **HouseAge** : 地域内の住宅の築年数（中央値）。住宅がどれくらい古いかを示す指標です。\n",
    "1. **AveRooms**: 平均部屋数。地域内の住宅の平均部屋数を示しています。\n",
    "1. **AveBedrms**: 平均寝室数。地域内の住宅の平均寝室数を示しています。\n",
    "1. **Population**: 地域内の総人口。\n",
    "1. **AveOccup**: 平均住戸数。地域内の住宅の平均住戸数を示しています。\n",
    "1. **Latitude**: 地域内の緯度。\n",
    "1. **Longitude**: 地域の経度。\n",
    "1. **MedHouseVal**: 地域内の住宅価格の中央値。機械学習では目的変数として、これを予測するこ一般的なタスクです。"
   ]
  },
  {
   "cell_type": "markdown",
   "id": "0e5201ca-5c01-4c50-a6f4-60e377d9ae37",
   "metadata": {},
   "source": [
    "## SHAP（SHapley Additive exPlanations）\n",
    "\n",
    "SHAPは機械学習モデルの予測を解釈し、個々の特徴量が予測にどの程度寄与しているかを評価するための手法の一つです。SHAP値はゲーム理論に基づいており、特徴量の寄与度を公平かつ一貫性のある方法で評価するのに役立ちます。\n",
    "\n",
    "![altメインイメージ](./img/shap_header.svg)\n",
    "\n",
    "SHAPの主要な概念と要点は以下の通りです：\n",
    "\n",
    "1. シャプリー値（Shapley Values）: シャプリー値はゲーム理論から派生した概念で、特徴量が予測にどれだけ寄与するかを評価するために使用されます。シャプリー値は、特徴量の組み合わせごとに計算され、その特徴量がどれだけ貢献したかを示します。このアプローチは、特徴量の寄与を公平に評価するために使用され、全ての特徴量が協力して予測に寄与する場合に特に役立ちます。\n",
    "\n",
    "2. 予測の解釈: SHAPを使用することで、モデルの予測がどの特徴量にどの程度依存しているかを可視化できます。これにより、モデルの予測が理解しやすくなり、特徴量の重要性を定量化できます。\n",
    "\n",
    "3. Tree SHAP: SHAP値の計算は、特にツリーベースのモデル（例: ランダムフォレスト、勾配ブースティングなど）に対して効率的に行うためのアルゴリズムがあります。Tree SHAPアルゴリズムは、特徴量の組み合わせを効率的に評価し、SHAP値を計算します。\n",
    "\n",
    "4. モデルの説明性の向上: SHAPは、モデルの予測をより解釈可能にし、モデルの予測が不正確な場合やバイアスがある場合にその原因を特定するのに役立ちます。また、特徴量の寄与を評価することで、モデルの改善や特徴量の選択に関する意思決定を支援しす。\n",
    "\n",
    "SHAPは、機械学習モデルの解釈性を向上させるための重要なツールの一つであり、特にブラックボックスモデルの解釈性を向るために役立つでしょう。"
   ]
  },
  {
   "cell_type": "markdown",
   "id": "647e6429-4c2d-4c7e-857f-0a3c6e1954fb",
   "metadata": {},
   "source": [
    "# 教材への接続\n",
    "google colabにおけるオンラインの場合にこのラインを実行します。（Google colabに接続しない場合には不要）"
   ]
  },
  {
   "cell_type": "code",
   "execution_count": null,
   "id": "b193edc5-c751-4719-a022-ce7f1294a963",
   "metadata": {},
   "outputs": [],
   "source": [
    "!pip install xgboost\n",
    "!pip install shap\n",
    "!git clone https://github.com/ARIM-Training/Training_python_12.git\n",
    "%cd Training_python_12"
   ]
  },
  {
   "cell_type": "markdown",
   "id": "275978fb-837e-4a5c-bc5f-9bd5f44f5997",
   "metadata": {},
   "source": [
    "### ライブラリのインポート"
   ]
  },
  {
   "cell_type": "code",
   "execution_count": null,
   "id": "b79506ed-6866-4fd1-abeb-07038536ec67",
   "metadata": {},
   "outputs": [],
   "source": [
    "import shap"
   ]
  },
  {
   "cell_type": "markdown",
   "id": "5f79b958-37fd-4244-9205-723b6c179c54",
   "metadata": {},
   "source": [
    "### サンプルファイルの読み込み"
   ]
  },
  {
   "cell_type": "code",
   "execution_count": null,
   "id": "7499d3ae-d008-4430-ad28-aa105df84b67",
   "metadata": {},
   "outputs": [],
   "source": [
    "# train an XGBoost model\n",
    "X, y = shap.datasets.california()"
   ]
  },
  {
   "cell_type": "code",
   "execution_count": null,
   "id": "47884be5-953c-4513-b78a-7fd069b4f04e",
   "metadata": {},
   "outputs": [],
   "source": [
    "X"
   ]
  },
  {
   "cell_type": "markdown",
   "id": "6853117c-48bb-4785-aa78-da31a24cd1aa",
   "metadata": {},
   "source": [
    "### 機械学習モデル（XGboost）"
   ]
  },
  {
   "cell_type": "code",
   "execution_count": null,
   "id": "80117d82-7b1a-4826-9b90-c87de1730d81",
   "metadata": {},
   "outputs": [],
   "source": [
    "import xgboost"
   ]
  },
  {
   "cell_type": "code",
   "execution_count": null,
   "id": "57f9a7c8-e7bd-4042-bf03-5abce3e4a17c",
   "metadata": {},
   "outputs": [],
   "source": [
    "model = xgboost.XGBRegressor()\n",
    "model.fit(X, y)"
   ]
  },
  {
   "cell_type": "markdown",
   "id": "c3f48233-8022-4580-8bc0-96091490fea2",
   "metadata": {},
   "source": [
    "### SHAPによる特徴量の説明・可視化方法"
   ]
  },
  {
   "cell_type": "markdown",
   "id": "1156d828-400c-4feb-844b-b9c4b6bfe1d8",
   "metadata": {},
   "source": [
    "#### shapライブラリについて： https://github.com/shap/shap   \n",
    "SHAPはあらゆる機械学習モデルの出力を説明することができます。私たちは、ツリーアンサンブル法のための高速な厳密アルゴリズムを開発ました。（私たちのNature MI論文を参照）。高速なC++実装は、XGBoost、LightGBM、CatBoost、scikit-learn、pysparkの木モデルに対応しています。"
   ]
  },
  {
   "cell_type": "code",
   "execution_count": null,
   "id": "a3d7fe3f-ca37-47fe-8c2a-0bc3923576e3",
   "metadata": {},
   "outputs": [],
   "source": [
    "explainer = shap.Explainer(model)\n",
    "shap_values = explainer(X)"
   ]
  },
  {
   "cell_type": "markdown",
   "id": "7a65beec-940a-4cbd-a25a-707b3cd72ea8",
   "metadata": {},
   "source": [
    "【解説】　**Explainer** について   \n",
    "Explainer()は、SHAPライブラリ内の主要なクラスの一つです。このクラスは、機械学習モデルの解釈性を向上させるために使用され、モデルの予測を説明するために SHAP 値を計算する役割を果たします。以下に、`shap.Explainer()` の主要な概念と使い方を説明します。\n",
    "\n",
    "まず、\n",
    "```\n",
    "explainer = shap.Explainer(model, data=None, **kwargs)\n",
    "``` \n",
    "のように初期化されます。\n",
    "\n",
    "主なパラメータと引数:\n",
    "\n",
    "1. `model`: SHAP 値を計算するための機械学習モデルです。このモデルは、Python の機械学習ライブラリ（例: scikit-learn、XGBoost、LightGBM）でトレーニングされたものである必要があります。\n",
    "\n",
    "2. `data` (オプション): データセットを指定します。このデータセットは、モデルのトレーニング時と同じ特徴量を持つ必要があります。データを指定することで、SHAP 値を計算する際に参照されます。指定しない場合、`model` の特徴量が使用されます。\n",
    "\n",
    "3. `**kwargs` (オプション): Explainer クラスの初期化に関する他のオプションやパラメータを指定します。具体的なオプションはライブラリのバージョンによって異なることがあります。\n",
    "\n",
    "`shap.Explainer()` を使用する一般的な手順は次の通りです:\n",
    "\n",
    "1. モデルをトレーニングします。\n",
    "2. モデルとデータを `shap.Explainer()` に渡します。\n",
    "3. `Explainer` オブジェクトを使用して SHAP 値を計算します。これにより、各予測に対するの解釈性向上に寄与する重要なツールです。"
   ]
  },
  {
   "cell_type": "markdown",
   "id": "f82211b2-6345-405b-a2e0-231a1d938ed6",
   "metadata": {},
   "source": [
    "### 2.1 bar plot\n",
    "各特徴のSHAP値の平均絶対値を取るだけで、標準棒グラフが得られます（マルチクラス出力では積み重ね棒グラフが得られます）。\n",
    "バープロットではバーの高さが特徴量の重要性を示し、高いバーは予測に対して重要な特徴量を示します。\n",
    "\n",
    "### Global bar plot\n",
    "\n",
    "SHAP値のマトリックスを`plots.bar()`関数に渡すと、大域的な特徴量の重要度プロットが作成されます。各特徴の大域的な重要度は、与えられたすべてのサンプルにわたるその特徴の平均絶対値とみなされます。"
   ]
  },
  {
   "cell_type": "code",
   "execution_count": null,
   "id": "680e6511-157e-4358-a5d3-bec9c76c17de",
   "metadata": {},
   "outputs": [],
   "source": [
    "shap.plots.bar(shap_values)"
   ]
  },
  {
   "cell_type": "markdown",
   "id": "f48c3a4f",
   "metadata": {},
   "source": [
    "デフォルトでは、棒グラフは最大10本しか表示されませんが、これは`max_display`パラメータで制御できます。"
   ]
  },
  {
   "cell_type": "code",
   "execution_count": null,
   "id": "d50e5344",
   "metadata": {},
   "outputs": [],
   "source": [
    "shap.plots.bar(shap_values, \n",
    "               max_display=5\n",
    "              )"
   ]
  },
  {
   "cell_type": "markdown",
   "id": "4246b7ba",
   "metadata": {},
   "source": [
    "### Local bar plot\n",
    "\n",
    "SHAP値の行を`plots.bar()`関数に渡すと、各特徴量のSHAP値を棒グラフにしたサンプルごとの特徴量の重要度プロットが作成されます。なお、特徴量の値は特徴量名の左側にグレーで表示されます。"
   ]
  },
  {
   "cell_type": "code",
   "execution_count": null,
   "id": "fbd0f267",
   "metadata": {},
   "outputs": [],
   "source": [
    "shap.plots.bar(shap_values[0])"
   ]
  },
  {
   "cell_type": "markdown",
   "id": "8a172649-eb6c-4b15-b8d3-3678e0c556c7",
   "metadata": {},
   "source": [
    "### 2.2 beeswarm plot\n",
    "\n",
    "ビースワームプロットでは、各特徴量のSHAP値が水平に散布され、各点はデータセット内の特定のデータポイントを表します。プロット内の点の分布は、特徴量のSHAP値の分布を示し、各特徴量が予測にどの程度影響を与えているかを示します。\n",
    "\n",
    "### simple beeswarm summary plot\n",
    "下のプロットは、全サンプルのSHAP値の大きさの合計で特徴をソートし、SHAP値を使って各特徴がモデル出力に与える影響の分布を示します。\n",
    "色は特徴値を表しています（赤が高く、青が低い）。これにより、例えば世帯所得（MedInc）が高いほど住宅価格（予測値）は高まることがわかります。"
   ]
  },
  {
   "cell_type": "code",
   "execution_count": null,
   "id": "ad23b415-0c1a-48f0-8fcf-ba76c0cdc1fb",
   "metadata": {},
   "outputs": [],
   "source": [
    "# summarize the effects of all the features\n",
    "shap.plots.beeswarm(shap_values)"
   ]
  },
  {
   "cell_type": "markdown",
   "id": "6d5d9c0d",
   "metadata": {},
   "source": [
    "### Feature ordering\n",
    "\n",
    "デフォルトでは、各特徴量の SHAP 値の絶対値の平均値である shap_values.abs.mean(0) を用いて並べています。しかし、この順序は大まかな平均のImpactが重視されるため、稀ではありますが、大きなImpact影響が重視れないことがあります。このようなとき、代わりに絶対値の最大値でソートすることができます。"
   ]
  },
  {
   "cell_type": "code",
   "execution_count": null,
   "id": "acc97842",
   "metadata": {},
   "outputs": [],
   "source": [
    "shap.plots.beeswarm(shap_values, \n",
    "                    order = shap_values.abs.max(0)\n",
    "                   )"
   ]
  },
  {
   "cell_type": "markdown",
   "id": "5801abe3",
   "metadata": {},
   "source": [
    "### 色のカスタマイズ化\n",
    "\n",
    "デフォルトでは、beeswarmはshap.plots.colors.red_blueカラーマップを使用しますが、colorパラメータを使用して任意のmatplotlibカラーまたはカラーマップに変更することができます。"
   ]
  },
  {
   "cell_type": "code",
   "execution_count": null,
   "id": "bada3038",
   "metadata": {},
   "outputs": [],
   "source": [
    "import matplotlib.pyplot as plt\n",
    "\n",
    "shap.plots.beeswarm(shap_values, color=plt.get_cmap(\"cool\"))"
   ]
  },
  {
   "cell_type": "markdown",
   "id": "12b6ce92-7814-444e-87bc-6a7bc5d36abc",
   "metadata": {},
   "source": [
    "### 2.3 waterfall plot\n",
    "waterfallプロットは、モデルの予測を理解し、個々のデータポイントに対する予測の詳細を調査するのに役立ちます。特に、どの特徴量が特定の予測にどの程度影響を与えているかを視覚的に理解できます。\n",
    "\n",
    "各特徴が基本値（渡したトレーニングデータセットの平均モデル出力）からモデル出力を押し上げるのに貢献していることを示しています。  予測値を押し上げる特徴量は赤で、予測値を押し下げる特徴量は青で示されています。 プロットの下部には、全体の予測（E[f(x)]）と各特徴量の寄与の合計が表示されます。"
   ]
  },
  {
   "cell_type": "code",
   "execution_count": null,
   "id": "243b1026-40be-4aa9-99fe-49c4b3e0c1ce",
   "metadata": {},
   "outputs": [],
   "source": [
    "# visualize the first prediction's explanation\n",
    "shap.plots.waterfall(shap_values[0])"
   ]
  },
  {
   "cell_type": "markdown",
   "id": "e4627d3d-4cc7-4cf9-aa81-062f6dcf8584",
   "metadata": {},
   "source": [
    "### 2.4 force plot\n",
    "同じ説明を視覚化する別の方法としては、force plotを使うことができます。Force プロットは、特定のデータポイントに対する予測を詳細に解釈するための寄与度を視覚化します。  \n",
    "\n",
    "プロット内には以下の情報が含まれます：\n",
    "\n",
    "* Base Value: 予測の基本値（通常の予測の平均値）。\n",
    "* Output Value: 特定のデータポイントの予測値。\n",
    "* Feature Contributions: 各特徴量が予測に対してどの程度寄与しているか。\n",
    "* Expected Value: 特定のデータポイントにおける特徴量の寄与の合計。与の合計。"
   ]
  },
  {
   "cell_type": "code",
   "execution_count": null,
   "id": "e2700a14-3a54-4599-8833-5d2017bf59d5",
   "metadata": {},
   "outputs": [],
   "source": [
    "# visualize the first prediction's explanation with a force plot\n",
    "shap.plots.force(shap_values[0])"
   ]
  },
  {
   "cell_type": "markdown",
   "id": "a1dec00e-e2da-4f93-ab29-2163d5c70d1a",
   "metadata": {},
   "source": [
    "上図のフォース・プロットをたくさん取り出して90度回転させ、水平に積み重ねると、データセット全体の説明を見ることができます。下記は500番目までのサンプル（インスタンス）を縦に並べた表示例です。\n",
    "（JupyterNotebookでは、このプロットはインタラクティブになっています）"
   ]
  },
  {
   "cell_type": "code",
   "execution_count": null,
   "id": "34b9e3a5-bb4b-422a-8aa8-0933faaece0f",
   "metadata": {},
   "outputs": [],
   "source": [
    "# visualize all the training set predictions\n",
    "shap.plots.force(shap_values[:500])"
   ]
  },
  {
   "cell_type": "markdown",
   "id": "f12cc5f2-bb41-486b-b846-b617efdcaa58",
   "metadata": {},
   "source": []
  },
  {
   "cell_type": "markdown",
   "id": "8171507a-c0ae-4c78-a4c7-901d6a2085a3",
   "metadata": {},
   "source": [
    "### 2.5 scatter plot\n",
    "Scatter プロットでは、2つの特徴量に関連するSHAP値が表示されます。各点はデータセット内の特定のデータポイントを表し、x軸とy軸にはそれぞれ異なる特徴量のSHAP値が表示されます。プロット内の各点は、特定のデータポイントの予測に対する2つの特徴量の寄与を示します。点の位置が x 軸上で右に寄っている場合、その特徴量は予測を増加させる方向に寄与し、左に寄っている場合は予測を減少させる方向に寄与します。\n",
    "\n",
    "SHAP値はモデル出力の変化に対する特徴量の寄与を表すので、下のプロットは、緯度の変化に伴う住宅価格の予測値の変化を表しています。\n",
    "\n",
    "緯度（Latitude）の1つの値での垂直方向の分散は、他の特徴との相互作用効果を表します。これらの相互作用を明らかにするのを助けるために、別の特徴で色を付けることができます。\n",
    "説明テンソル全体をcolor引数に渡すと、散布図は色付けするのに最適な特徴を選びますが、この場合は経度を選んでいます。"
   ]
  },
  {
   "cell_type": "code",
   "execution_count": null,
   "id": "8b88344e-1aad-4bf3-ae82-5aafeb7145f1",
   "metadata": {},
   "outputs": [],
   "source": [
    "# create a dependence scatter plot to show the effect of a single feature across the whole dataset\n",
    "\n",
    "shap.plots.scatter(shap_values[:, \"Latitude\"], \n",
    "                   color=shap_values\n",
    "                  )"
   ]
  },
  {
   "cell_type": "code",
   "execution_count": null,
   "id": "3d12ad73",
   "metadata": {},
   "outputs": [],
   "source": []
  }
 ],
 "metadata": {
  "kernelspec": {
   "display_name": "Python 3 (ipykernel)",
   "language": "python",
   "name": "python3"
  },
  "language_info": {
   "codemirror_mode": {
    "name": "ipython",
    "version": 3
   },
   "file_extension": ".py",
   "mimetype": "text/x-python",
   "name": "python",
   "nbconvert_exporter": "python",
   "pygments_lexer": "ipython3",
   "version": "3.9.16"
  }
 },
 "nbformat": 4,
 "nbformat_minor": 5
}
