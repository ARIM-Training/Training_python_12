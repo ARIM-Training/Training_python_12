{
 "cells": [
  {
   "cell_type": "markdown",
   "id": "2ce524b4",
   "metadata": {},
   "source": [
    "# ARIM情報活用講座：\n",
    "# 論文：Prediction of organic compound aqueous solubility using machine learning  \n",
    "### Part-1 (Mordred分子記述子)\n",
    "\n",
    "Tayyebi, A., Alshami, A.S., Rabiei, Z. et al. Prediction of organic compound aqueous solubility using machine learning: a comparison study of descriptor-based and fingerprints-based models. J Cheminform 15, 99 (2023).   \n",
    "https://doi.org/10.1186/s13321-023-00752-6\n",
    "\n"
   ]
  },
  {
   "cell_type": "markdown",
   "id": "87e768a7-86cd-4a42-a13a-012d33d8da87",
   "metadata": {},
   "source": [
    "### 要約\n",
    "化合物の溶解度の予測精度にかかる説明変数の依存性を分子記述子（Mordred）とMorganフィンガープリント(ECFP4)を適用した機械学習（ML）モデルで予測精度を検証。生成されたMLモデルを解釈するために、SHAP（Shapley Additive exPlanations）と熱力学的解析を使用し、水溶性測定に最も効果的な特徴量を調査している。\n",
    "\n",
    "フィンガープリント法は、低い誤差、分子レベルの相互作用を調査する能力、および熱力学的量との互換性があり、他の利用可能な計算ツールと比較して優れていた。\n",
    "一方、物理化学記述子モデル（Mordred）は、与えられたテストセットに対して、より優れた予測精度を達成する点でフィンガープリント・モデルを上回っていた。"
   ]
  },
  {
   "cell_type": "markdown",
   "id": "e009f5ff-2bef-4d62-85b6-4bda731f35fc",
   "metadata": {},
   "source": [
    "### 背景　\n",
    "これまでの研究から、機械学習による水溶性の予測は可能であることが明らかになっている。しかし、この分野を初めて探究する研究者は、アルゴリズムの複雑さであるがゆえに、モデル構築や評価の理解の難しさに直面します。\n",
    "\n",
    "さらに、現在の研究において懸念されているのは、相関関係の妥当性です。特に、機械学習の性能における化学的表現の影響とその役割については、まだ十分に研究されていないと言えます。この研究では、記述子ベース（Mordred）とフィンガープリント法（ECFP4）を比較し、データの事前処理と事後処理が機械学習の精度に及ぼす影響を調査しました。"
   ]
  },
  {
   "cell_type": "markdown",
   "id": "4d048b7e-a0dc-4785-bfb8-880127d64ecd",
   "metadata": {},
   "source": [
    "### データセット\n",
    "溶解度のデータセットは、3つの文献ベースの大規模データベースから有機化合物の水溶解度を収集したものを用いています。  \n",
    "1. Vermeire's (11804 datapoints) \n",
    "2. Boobier's (901 datapoints) \n",
    "3. Delaney's (1145 datapoints) \n",
    "\n",
    "これらから、1つの分子に対して複数の溶解度測定値からなる場合やノイズの多いデータの場合は除外され、合計8,438化合物のデータエントリとしています。（Additional file 1）。"
   ]
  },
  {
   "cell_type": "markdown",
   "id": "88dd9a28-d685-453b-8c56-42d662e654cd",
   "metadata": {},
   "source": [
    "### Model\n",
    "\n",
    "分子記述子法とフィンガープリント法を使用して予測精度の検証比較をしています。\n",
    "\n",
    "**分子記述子法**: 物理化学的特性や分子の構造に関連する特徴をフラグメントとして定義し、これを利用して予測モデルを構築しています。通常、記述子ベースのモデルは既知の特徴のセットに依存しますが、本論文では、Mordredパッケージを使用して、1,613個の2次元（2D）記述子を生成し、予測速度を向上させました。なお、3D記述子の再現性の問題を回避するため、3D記述子は採用していません。\n",
    "\n",
    "**フィンガープリント法**: 物質の特性を分子の特徴を通して包括し、より動的な表現を提供します。分子フィンガープリントには様々なタイプがあり、分子フラグメントをバイナリ文字列に変換する方法によって決定されます。分子内の結合は個別に2進数（ビット）の列として定義され、これにより分子特性に関する情報がより多く保存されます。そのため、長いビット列を持つフィンガープリントは、類似性検索においてより信頼性が高いです。\n",
    "\n",
    "この研究では、Morganアルゴリズムをフィンガープリント法として使用。モーガンフィンガープリントは拡張接続性フィンガープリント（ECFP）としても知られ、最も一般的な円形フィンガープリントです。これらの円形フィンガープリントは、中心原子から与えられた「半径」または「直径」までの各原子の「円形」環境を考慮することにより生成されます。本研究では、直径4の円形フィンガープリントであるECFP4を使用しました。"
   ]
  },
  {
   "cell_type": "markdown",
   "id": "97e1c78b",
   "metadata": {},
   "source": [
    "# Google Colabにおける環境設定\n",
    "google colab環境でなければ実行不要"
   ]
  },
  {
   "cell_type": "code",
   "execution_count": null,
   "id": "ee7e84fa",
   "metadata": {},
   "outputs": [],
   "source": [
    "!pip install rdkit-pypi\n",
    "!pip install shap\n",
    "!pip install mordred\n",
    "!git clone https://github.com/ARIM-Training/Training_python_12.git\n",
    "%cd Training_python_12"
   ]
  },
  {
   "cell_type": "markdown",
   "id": "fb5dcbce-39de-4245-9359-23ac1153d7c2",
   "metadata": {},
   "source": [
    "## 1.データの読み込み\n",
    "### 汎用ライブラリのインポート"
   ]
  },
  {
   "cell_type": "code",
   "execution_count": 1,
   "id": "34116c05",
   "metadata": {},
   "outputs": [],
   "source": [
    "import pandas as pd\n",
    "import numpy as np\n",
    "import matplotlib.pyplot as plt\n",
    "\n",
    "# rdkit\n",
    "from rdkit import Chem\n",
    "\n",
    "# 警告を無視\n",
    "from warnings import filterwarnings\n",
    "filterwarnings('ignore')"
   ]
  },
  {
   "cell_type": "markdown",
   "id": "b2165bd0-b415-41ef-924c-98a6cd4cc0b1",
   "metadata": {},
   "source": [
    "### データセットファイルの読み込み\n",
    "サンプルデータのファイルは「new222new.csv」で、これは「data」フォルダに保存されています。このファイルをpandasの`read_csv()`メソッドを使用して読み込み、変数`sol`にデータフレーム（DataFrame）型として格納します。\n",
    "\n",
    "変数`sol`は8,438のサンプルから成り、SMILESと溶解度実験値の2つのカラムを持つデータ行列です。これによって、ファイル内のデータが正常に読み込まれたことが確認されます。"
   ]
  },
  {
   "cell_type": "code",
   "execution_count": 2,
   "id": "2d783097",
   "metadata": {},
   "outputs": [
    {
     "data": {
      "text/html": [
       "<div>\n",
       "<style scoped>\n",
       "    .dataframe tbody tr th:only-of-type {\n",
       "        vertical-align: middle;\n",
       "    }\n",
       "\n",
       "    .dataframe tbody tr th {\n",
       "        vertical-align: top;\n",
       "    }\n",
       "\n",
       "    .dataframe thead th {\n",
       "        text-align: right;\n",
       "    }\n",
       "</style>\n",
       "<table border=\"1\" class=\"dataframe\">\n",
       "  <thead>\n",
       "    <tr style=\"text-align: right;\">\n",
       "      <th></th>\n",
       "      <th>SMILES</th>\n",
       "      <th>measured log(solubility:mol/L)</th>\n",
       "    </tr>\n",
       "  </thead>\n",
       "  <tbody>\n",
       "    <tr>\n",
       "      <th>0</th>\n",
       "      <td>OCC1OC(CO)(OC2OC(CO)C(O)C(O)C2O)C(O)C1O</td>\n",
       "      <td>0.79</td>\n",
       "    </tr>\n",
       "    <tr>\n",
       "      <th>1</th>\n",
       "      <td>O[C@H]1[C@H](O[C@H](CO)[C@@H](O)[C@@H]1O)O[C@]...</td>\n",
       "      <td>0.79</td>\n",
       "    </tr>\n",
       "    <tr>\n",
       "      <th>2</th>\n",
       "      <td>OC[C@@H]1O[C@](CO)(O[C@@H]2O[C@@H](CO)[C@H](O)...</td>\n",
       "      <td>0.79</td>\n",
       "    </tr>\n",
       "    <tr>\n",
       "      <th>3</th>\n",
       "      <td>CN1C[C@@H]2C[C@@H](C1)C3=CC=CC(=O)N3C2</td>\n",
       "      <td>0.65</td>\n",
       "    </tr>\n",
       "    <tr>\n",
       "      <th>4</th>\n",
       "      <td>CN1CC2CC(C1)C1=CC=CC(=O)N1C2</td>\n",
       "      <td>0.65</td>\n",
       "    </tr>\n",
       "    <tr>\n",
       "      <th>...</th>\n",
       "      <td>...</td>\n",
       "      <td>...</td>\n",
       "    </tr>\n",
       "    <tr>\n",
       "      <th>8433</th>\n",
       "      <td>O=[N+]([O-])C</td>\n",
       "      <td>0.26</td>\n",
       "    </tr>\n",
       "    <tr>\n",
       "      <th>8434</th>\n",
       "      <td>OC</td>\n",
       "      <td>1.57</td>\n",
       "    </tr>\n",
       "    <tr>\n",
       "      <th>8435</th>\n",
       "      <td>S=C(N)N</td>\n",
       "      <td>0.32</td>\n",
       "    </tr>\n",
       "    <tr>\n",
       "      <th>8436</th>\n",
       "      <td>O=C(NO)N</td>\n",
       "      <td>1.12</td>\n",
       "    </tr>\n",
       "    <tr>\n",
       "      <th>8437</th>\n",
       "      <td>O=C(N)N</td>\n",
       "      <td>0.96</td>\n",
       "    </tr>\n",
       "  </tbody>\n",
       "</table>\n",
       "<p>8438 rows × 2 columns</p>\n",
       "</div>"
      ],
      "text/plain": [
       "                                                 SMILES  \\\n",
       "0               OCC1OC(CO)(OC2OC(CO)C(O)C(O)C2O)C(O)C1O   \n",
       "1     O[C@H]1[C@H](O[C@H](CO)[C@@H](O)[C@@H]1O)O[C@]...   \n",
       "2     OC[C@@H]1O[C@](CO)(O[C@@H]2O[C@@H](CO)[C@H](O)...   \n",
       "3                CN1C[C@@H]2C[C@@H](C1)C3=CC=CC(=O)N3C2   \n",
       "4                          CN1CC2CC(C1)C1=CC=CC(=O)N1C2   \n",
       "...                                                 ...   \n",
       "8433                                      O=[N+]([O-])C   \n",
       "8434                                                 OC   \n",
       "8435                                            S=C(N)N   \n",
       "8436                                           O=C(NO)N   \n",
       "8437                                            O=C(N)N   \n",
       "\n",
       "      measured log(solubility:mol/L)  \n",
       "0                               0.79  \n",
       "1                               0.79  \n",
       "2                               0.79  \n",
       "3                               0.65  \n",
       "4                               0.65  \n",
       "...                              ...  \n",
       "8433                            0.26  \n",
       "8434                            1.57  \n",
       "8435                            0.32  \n",
       "8436                            1.12  \n",
       "8437                            0.96  \n",
       "\n",
       "[8438 rows x 2 columns]"
      ]
     },
     "execution_count": 2,
     "metadata": {},
     "output_type": "execute_result"
    }
   ],
   "source": [
    "sol = pd.read_csv('data/new222new.csv')\n",
    "sol"
   ]
  },
  {
   "cell_type": "code",
   "execution_count": 3,
   "id": "f5edadbb",
   "metadata": {},
   "outputs": [
    {
     "data": {
      "text/plain": [
       "0       0.79\n",
       "1       0.79\n",
       "2       0.79\n",
       "3       0.65\n",
       "4       0.65\n",
       "        ... \n",
       "8433    0.26\n",
       "8434    1.57\n",
       "8435    0.32\n",
       "8436    1.12\n",
       "8437    0.96\n",
       "Name: measured log(solubility:mol/L), Length: 8438, dtype: float64"
      ]
     },
     "execution_count": 3,
     "metadata": {},
     "output_type": "execute_result"
    }
   ],
   "source": [
    "#目的変数の指定\n",
    "y = sol.iloc[:,1]     #measured log(solubility:mol/L)\n",
    "y"
   ]
  },
  {
   "cell_type": "markdown",
   "id": "7500a50d-4b5a-430e-be4d-62cbabc6752b",
   "metadata": {},
   "source": [
    "## 2. 分子記述子\n",
    "\n",
    "まず、8,438の化合物のSMILES構造からRDKitのMolオブジェクトを生成します。 具体的には、`MolFromSmiles`メソッドを['SMILES']列に適用し、生成されたMolオブジェクトを['molecules']列としてデータフレームに追加しています。\n",
    "\n",
    "このプロセスをより効率的に実行するために、`apply`メソッドを利用しています。  \n",
    "（処理は1秒以内で終わります）"
   ]
  },
  {
   "cell_type": "code",
   "execution_count": 4,
   "id": "30800f53",
   "metadata": {},
   "outputs": [
    {
     "name": "stdout",
     "output_type": "stream",
     "text": [
      "CPU times: total: 422 ms\n",
      "Wall time: 584 ms\n"
     ]
    }
   ],
   "source": [
    "%%time\n",
    "molecules = sol.SMILES.apply(Chem.MolFromSmiles)"
   ]
  },
  {
   "cell_type": "markdown",
   "id": "5c0de695-3dc0-4aed-9fe4-d62a427ef15b",
   "metadata": {},
   "source": [
    "### Mordred記述子の計算\n",
    "Mordred記述子の計算は効率的に行うため、事前に`All_Mordred_descripters`関数を作成させています。  \n",
    "２次元に関する記述子のみを扱うため、Calculatorクラスを呼び出すとき、`ignore_3D=True`として3次元の記述子を無視する形でインスタンス化させています。"
   ]
  },
  {
   "cell_type": "code",
   "execution_count": 5,
   "id": "bb6a79c5",
   "metadata": {},
   "outputs": [],
   "source": [
    "from mordred import Calculator, descriptors"
   ]
  },
  {
   "cell_type": "code",
   "execution_count": 6,
   "id": "3ae18f06",
   "metadata": {},
   "outputs": [],
   "source": [
    "def All_Mordred_descriptors(data):\n",
    "\n",
    "    mols = [Chem.MolFromSmiles(smi) for smi in data]\n",
    "    \n",
    "    calc = Calculator(descriptors, ignore_3D=True)\n",
    "\n",
    "    # pandas df\n",
    "    df = calc.pandas(mols)\n",
    "    return df"
   ]
  },
  {
   "cell_type": "markdown",
   "id": "e1ed06bc-f451-46a8-a5c9-830887d752b4",
   "metadata": {},
   "source": [
    "8,438分子の記述子計算は`All_Mordred_descriptors()`関数へSMILESを読み込ませますが、実行時間は約3分ほどかかります。"
   ]
  },
  {
   "cell_type": "code",
   "execution_count": null,
   "id": "c50e8966",
   "metadata": {},
   "outputs": [
    {
     "name": "stderr",
     "output_type": "stream",
     "text": [
      " 18%|█▊        | 1556/8438 [00:37<02:27, 46.71it/s]"
     ]
    }
   ],
   "source": [
    "%%time\n",
    "mordred_descriptors = All_Mordred_descriptors(sol['SMILES'])"
   ]
  },
  {
   "cell_type": "markdown",
   "id": "07be049e-9c8a-4fc1-b05c-699bda4c915e",
   "metadata": {},
   "source": [
    "Mordredの二次元に関する特徴量は1,613個が生成されますので、初期のデータ行列は8,438サンプル×1,613次元となります。  \n",
    "これらをX変数とし、後の機械学習モデルの説明変数に供します。"
   ]
  },
  {
   "cell_type": "code",
   "execution_count": null,
   "id": "9b4f7a76",
   "metadata": {},
   "outputs": [],
   "source": [
    "#　データ行列の次元\n",
    "mordred_descriptors.shape"
   ]
  },
  {
   "cell_type": "code",
   "execution_count": null,
   "id": "0d1a6652",
   "metadata": {},
   "outputs": [],
   "source": [
    "X = mordred_descriptors "
   ]
  },
  {
   "cell_type": "markdown",
   "id": "379bfc7d-12e3-42dd-8521-c72060e94f81",
   "metadata": {},
   "source": [
    "### 特徴量の刈り込み　（本論文におけるユニークな内容）\n",
    "\n",
    "Mordedは物理的化学的な情報が事前に与えられいることでは有用ですが、本研究では有効な記述子に絞り込むために次の４つの事前処理を行っています。これらの絞り込みは次元削減とも呼ばれますが、本論文では”刈り込み(prune)”と称しています。\n",
    "\n",
    "* カテゴリ変数の除外：　　数値型変数のみに限定（最初の1613個の記述子から809個の記述子へ）  \n",
    "* 分散値フィルタの適用：　分散（0.1以下）の低い数値を除外。504個の記述子へ。  \n",
    "* 相関値フィルタの適用：　特定の情報モードがモデルのメカニズムを支配するのを防ぐために、相関の高い記述子（相関係数0.8以上）を排除。  \n",
    "* 疑似相関変数の除外：　　溶解度を予測する変数（FilterItLogS）の特徴量を除外。\n",
    "\n",
    "このプロセスにより、最終的に177の物理化学的記述子に絞り込んでいます。\n",
    "\n",
    "【参考】Mordredの記述子の種類  \n",
    "https://mordred-descriptor.github.io/documentation/master/descriptors.html"
   ]
  },
  {
   "cell_type": "markdown",
   "id": "916d11c1-eb2a-4057-bf4a-ab33641babce",
   "metadata": {},
   "source": [
    "#### 1.カテゴリ変数の除外\n",
    "\n",
    "カテゴリカルの説明変数を排除のやり方として、`select_dtypes()`メソッドでデータ型で数値列型を指定する方法を適用しています。"
   ]
  },
  {
   "cell_type": "code",
   "execution_count": null,
   "id": "f56d4333",
   "metadata": {},
   "outputs": [],
   "source": [
    "des_num = X.select_dtypes(include='number')\n",
    "des_num.shape"
   ]
  },
  {
   "cell_type": "markdown",
   "id": "18e79dad-c560-40a5-b127-50baedf81ec3",
   "metadata": {},
   "source": [
    "【解説】 **`select_dtypes()`** メソッド  \n",
    "Pandasライブラリを使用してデータフレーム内の列をデータ型に基づいて選択するためのメソッドです。データフレーム内の列の中から特定のデータ型を持つ列を選択するような場合に使われます。\n",
    "\n",
    "以下は、`select_dtypes()`メソッドの主な特徴と使い方の概要です。\n",
    "\n",
    "```python\n",
    "import pandas as pd\n",
    "\n",
    "# データフレームを作成\n",
    "data = {'A': [1, 2, 3],\n",
    "        'B': [1.1, 2.2, 3.3],\n",
    "        'C': ['apple', 'banana', 'cherry']}\n",
    "df = pd.DataFrame(data)\n",
    "\n",
    "# データ型に基づいて列を選択\n",
    "numeric_columns = df.select_dtypes(include=['int', 'float'])  # 整数と浮動小数点数の列を選択\n",
    "categorical_columns = df.select_dtypes(include=['object'])  # カテゴリカル（オブジェクト）データ型の列を選択\n",
    "```\n",
    "\n",
    "`select_dtypes()`メソッドは、`include`パラメータを使用して、選択したいデータ型をリストで指定します。上記の例では、`'int'`と`'float'`を指定して、整数と浮動小数点数の列を選択し、`'object'`を指定してカテゴリカル（オブジェクト）データ型の列を選択しています。\n",
    "\n",
    "また、`exclude`パラメータを使用することもでき、特定のデータ型を除外して残りを選択することができます。\n",
    "\n",
    "`select_dtypes()`メソッドは、データの型に基づいてデータフレーム内の列を効率的に選択できるため、データのサブセットを抽出し、さまざまなデータ処理に役立ちます。"
   ]
  },
  {
   "cell_type": "markdown",
   "id": "26beab3f-01a9-48a7-8478-6f3c1a63b6a0",
   "metadata": {},
   "source": [
    "#### 2.　分散値フィルタの適用\n",
    "\n",
    "有効な特徴量のみを残す方法として、特徴量の分散に注目し、低い分散を持つ特徴量は情報量が少ないものと見做してこれらを削除します。本編ではその分散値の閾値として0.1とし、scikit-learnの`VarianceThreshold`クラスの初期化で、下記のように進めています。\n"
   ]
  },
  {
   "cell_type": "code",
   "execution_count": null,
   "id": "7920de04",
   "metadata": {},
   "outputs": [],
   "source": [
    "from sklearn.feature_selection import VarianceThreshold"
   ]
  },
  {
   "cell_type": "code",
   "execution_count": null,
   "id": "76465e53",
   "metadata": {},
   "outputs": [],
   "source": [
    "vt = VarianceThreshold(threshold=0.1)\n",
    "\n",
    "# 閾値によるフィルタリング\n",
    "vt.fit(des_num)\n",
    "\n",
    "# マスクされた特徴量の確認\n",
    "mask = vt.get_support()\n",
    "\n",
    "#　選択された特徴量\n",
    "des_reduced = des_num.loc[:, mask]\n",
    "\n",
    "X = des_reduced\n",
    "X.shape"
   ]
  },
  {
   "cell_type": "markdown",
   "id": "731c69d4-c52e-499e-9a63-969f8f5b3d94",
   "metadata": {},
   "source": [
    "【解説】scikit-learnの`VarianceThreshold`  クラス\n",
    "\n",
    "特徴量の分散（variance）を基に、特徴量選択（feature selection）のためのツールです。`VarianceThreshold`を使用することで、低い分散を持つ特徴量を削除してデータセットを整理できます。\n",
    "\n",
    "以下は、`VarianceThreshold`の基本的な使い方です：\n",
    "\n",
    "1. `VarianceThreshold`をインポートします。\n",
    "\n",
    "```python\n",
    "from sklearn.feature_selection import VarianceThreshold\n",
    "```\n",
    "\n",
    "2. `VarianceThreshold`オブジェクトを作成します。`VarianceThreshold`の主要なパラメータは`threshold`です。このパラメータは、特徴量の分散がこの閾値未満の特徴量が削除されます。通常、0を指定することで、分散が0の特徴量（つまり、すべてのサンプルで同じ値を持つ特徴量）が削除されます。\n",
    "\n",
    "```python\n",
    "threshold = 0.0  # 分散が0未満の特徴量を削除\n",
    "selector = VarianceThreshold(threshold)\n",
    "```\n",
    "\n",
    "3. `VarianceThreshold`を訓練データに適用します。`fit`メソッドを使用して、特徴量の分散を計算します。\n",
    "\n",
    "```python\n",
    "selector.fit(X_train)\n",
    "```\n",
    "\n",
    "4. `get_support`メソッドを使用して、各特徴量が選択されたかどうかを確認できます。選択された特徴量は`True`、削除された特徴量は`False`として返されます。\n",
    "\n",
    "```python\n",
    "selected_features = selector.get_support()\n",
    "```\n",
    "\n",
    "5. 選択された特徴量のみを抽出することができます。\n",
    "\n",
    "```python\n",
    "X_train_selected = X_train[:, selected_features]\n",
    "```\n",
    "\n",
    "これにより、分散が低い特徴量が除去され、情報が豊富な特徴量だけが残ります。データセットを簡素化し、モデルのトレーニングや予測の効率を向上させるのに役立つことがあります。"
   ]
  },
  {
   "cell_type": "markdown",
   "id": "bf130adc-8780-49da-8ac1-6b5a9362a46e",
   "metadata": {},
   "source": [
    "#### 3.相関値フィルタの適用\n",
    "\n",
    "多重共線性は、説明変数（特徴）間の高い相関により、回帰モデル内で説明変数の係数を正確に評価することが難しくなる現象です。つまり、ある説明変数の変化が他の説明変数と強く関連している場合、その説明変数の効果を単独で評価するのが難しい状況が発生します。\n",
    "\n",
    "本論文では、特定の説明変数がモデルのメカニズムを支配するのを防ぐため、相関係数0.8以上の記述子（326個）を排除しています。"
   ]
  },
  {
   "cell_type": "code",
   "execution_count": null,
   "id": "b6b9d36c",
   "metadata": {},
   "outputs": [],
   "source": [
    "#出力した高い相関係数の格納するオブジェクトをset()関数で定義\n",
    "correlated_features = set()\n",
    "\n",
    "# 504同士の相関係数を取得\n",
    "correlation_matrix=X.corr()"
   ]
  },
  {
   "cell_type": "code",
   "execution_count": null,
   "id": "3776d8fd",
   "metadata": {},
   "outputs": [],
   "source": [
    "for i in range(len(correlation_matrix .columns)):\n",
    "    for j in range(i):\n",
    "        \n",
    "        if abs(correlation_matrix.iloc[i, j]) > 0.8:           \n",
    "            colname = correlation_matrix.columns[i]\n",
    "            correlated_features.add(colname)"
   ]
  },
  {
   "cell_type": "code",
   "execution_count": null,
   "id": "d8dbd347",
   "metadata": {},
   "outputs": [],
   "source": [
    "len(correlated_features)"
   ]
  },
  {
   "cell_type": "code",
   "execution_count": null,
   "id": "3ab1d501",
   "metadata": {},
   "outputs": [],
   "source": [
    "# 高相関係数の説明変数を削除\n",
    "X.drop(labels=correlated_features, axis=1, inplace=True)"
   ]
  },
  {
   "cell_type": "markdown",
   "id": "535244ce-8b04-4398-b534-603a97e3b9bd",
   "metadata": {},
   "source": [
    "#### 4. 疑似相関変数の除外\n",
    "\n",
    "mordred記述子の中で溶解度の特徴量であるFilterItLogSも多重共線性の可能性があるため、削除します。"
   ]
  },
  {
   "cell_type": "code",
   "execution_count": null,
   "id": "e773c59e",
   "metadata": {},
   "outputs": [],
   "source": [
    "X.drop('FilterItLogS', axis=1, inplace=True)"
   ]
  },
  {
   "cell_type": "markdown",
   "id": "c474776e-4c51-4c8f-b269-1933856a08a6",
   "metadata": {},
   "source": [
    "### 最終的な記述子\n",
    "上記の4つの刈り込みから、本論文における最終的な物理化学的記述子の数は177となります。詳細はAdditional FIleのTable S1に記述子の意味も含めて記載があります。"
   ]
  },
  {
   "cell_type": "code",
   "execution_count": null,
   "id": "3e0c28f0",
   "metadata": {},
   "outputs": [],
   "source": [
    "X.shape"
   ]
  },
  {
   "cell_type": "code",
   "execution_count": null,
   "id": "889cdd1f",
   "metadata": {},
   "outputs": [],
   "source": [
    "X.head()"
   ]
  },
  {
   "cell_type": "markdown",
   "id": "8aa68aa7-f023-4414-9210-c7f8ae1279b3",
   "metadata": {},
   "source": [
    "## ２.機械学習モデリング\n",
    "機械学習モデリングは線形重回帰 (MLR) とランダムフォレスト回帰（RFR）の二つのアルゴリズムで検討をしています。\n",
    "説明変数は上記で刈り込んだ177次元の物理化学記述子（X）です。対して目的変数は水溶解度で、最初に読み込ませたsolの2列目をyとして定義します。"
   ]
  },
  {
   "cell_type": "markdown",
   "id": "e86c0eaf-101c-4f65-a797-c4e375423f17",
   "metadata": {},
   "source": [
    "### データセットの分割（Data set splitting）\n",
    "\n",
    "分割は`test_size=0.2`として訓練データ：0.8、テストデータ：0.2としています。"
   ]
  },
  {
   "cell_type": "code",
   "execution_count": null,
   "id": "306fe7d2",
   "metadata": {},
   "outputs": [],
   "source": [
    "from sklearn.model_selection import train_test_split\n",
    "\n",
    "X_train, X_test, Y_train, Y_test = train_test_split(X, \n",
    "                                                    y, \n",
    "                                                    test_size=0.2,\n",
    "                                                    random_state=991\n",
    "                                                   )"
   ]
  },
  {
   "cell_type": "code",
   "execution_count": null,
   "id": "d17382a4-8e1a-45b8-9894-5143e4a6e788",
   "metadata": {},
   "outputs": [],
   "source": [
    "X_train.shape"
   ]
  },
  {
   "cell_type": "code",
   "execution_count": null,
   "id": "3e363414-aa61-455f-80de-850952e3e310",
   "metadata": {},
   "outputs": [],
   "source": [
    "X_test.shape"
   ]
  },
  {
   "cell_type": "markdown",
   "id": "0afabbf4-a052-42c9-8b41-c11dc38d7980",
   "metadata": {},
   "source": [
    "### 2-1.線形重回帰 (MLR) "
   ]
  },
  {
   "cell_type": "code",
   "execution_count": null,
   "id": "3f08f332-6c6a-466a-8674-dbb8154deb31",
   "metadata": {},
   "outputs": [],
   "source": [
    "from sklearn.linear_model import LinearRegression\n",
    "from sklearn.metrics import r2_score, mean_squared_error, mean_absolute_error"
   ]
  },
  {
   "cell_type": "code",
   "execution_count": null,
   "id": "48c82c30",
   "metadata": {},
   "outputs": [],
   "source": [
    "reg = LinearRegression()\n",
    "reg.fit(X_train, Y_train)"
   ]
  },
  {
   "cell_type": "markdown",
   "id": "474be3d1-a550-4106-aa7c-50956a2707ab",
   "metadata": {},
   "source": [
    "【解説】scikit-learnの`LinearRegression`  \n",
    "線形回帰（Linear Regression）モデルを実装するためのツールです。線形回帰は、連続的な応答変数と1つ以上の説明変数（特徴量）の間の線形な関係をモデル化するために使用されます。このモデルは、データの傾向やパターンを理解し、予測や回帰分析に使用できます。\n",
    "\n",
    "以下は、`LinearRegression`の基本的な使い方です：\n",
    "\n",
    "1. `LinearRegression`をインポートします。\n",
    "\n",
    "```python\n",
    "from sklearn.linear_model import LinearRegression\n",
    "```\n",
    "\n",
    "2. `LinearRegression`オブジェクトを作成します。\n",
    "\n",
    "```python\n",
    "model = LinearRegression()\n",
    "```\n",
    "\n",
    "3. モデルを訓練データに適合させます。訓練データは説明変数（特徴量）と応答変数から構成されています。\n",
    "\n",
    "```python\n",
    "model.fit(X_train, y_train)\n",
    "```\n",
    "\n",
    "4. モデルが訓練データに適合したら、訓練データに対する予測を行うことができます。\n",
    "\n",
    "```python\n",
    "y_pred = model.predict(X_train)\n",
    "```\n",
    "\n",
    "5. モデルの性能を評価したり、新しいデータポイントに対する予測を行ったりする際に、モデルの係数（回帰係数）や切片（y切片）などの属性にアクセスできます。たとえば、係数は各特徴量の重要性を示し、切片はモデルの予測の基準点を示します。\n",
    "\n",
    "```python\n",
    "coefficients = model.coef_  # 各特徴量の係数\n",
    "intercept = model.intercept_  # 切片\n",
    "```\n",
    "\n",
    "`LinearRegression`は、単回帰（1つの特徴量を使用した回帰）や多重回帰（複数の特徴量を使用した回帰）など、さまざまな回帰タスクに適用できます。線形回帰モデルは、データの線形性が仮定されており、非線形な関係をモデル化する場合には他のモデルを検討する必要があります。また、データの前処理や特徴量エンジニアリングが重要な要素となることがあります。"
   ]
  },
  {
   "cell_type": "markdown",
   "id": "22f72dab-fcbf-4b20-ab66-476314d7cf2f",
   "metadata": {},
   "source": [
    "### R2スコア"
   ]
  },
  {
   "cell_type": "code",
   "execution_count": null,
   "id": "11967834",
   "metadata": {},
   "outputs": [],
   "source": [
    "#predicts the X_train\n",
    "Y_pred_train = reg.predict(X_train)\n",
    "\n",
    "print('Mean squared error (MSE): %.2f'\n",
    "      % mean_squared_error(Y_train, Y_pred_train,squared=False))\n",
    "\n",
    "print('Coefficient of determination (R^2): %.2f'\n",
    "      % r2_score(Y_train, Y_pred_train))"
   ]
  },
  {
   "cell_type": "code",
   "execution_count": null,
   "id": "28407cc0",
   "metadata": {},
   "outputs": [],
   "source": [
    "#predicts the X_test\n",
    "Y_pred_test = reg.predict(X_test)\n",
    "\n",
    "print('Mean squared error (MSE): %.2f'\n",
    "      % mean_squared_error(Y_test, Y_pred_test,squared=False))\n",
    "\n",
    "print('Coefficient of determination (R^2): %.2f'\n",
    "      % r2_score(Y_test, Y_pred_test))"
   ]
  },
  {
   "cell_type": "markdown",
   "id": "c4778a06-7b25-42c1-9010-3a485bf71eed",
   "metadata": {},
   "source": [
    "### MAE"
   ]
  },
  {
   "cell_type": "code",
   "execution_count": null,
   "id": "f4ab36cf",
   "metadata": {},
   "outputs": [],
   "source": [
    "mae = mean_absolute_error(Y_train, Y_pred_train)\n",
    "print('Training MAE : {:.2f}'.format(mae))"
   ]
  },
  {
   "cell_type": "code",
   "execution_count": null,
   "id": "52e066bc",
   "metadata": {},
   "outputs": [],
   "source": [
    "mae = mean_absolute_error(Y_test, Y_pred_test)\n",
    "print('Test MAE : {:.2f}'.format(mae))"
   ]
  },
  {
   "cell_type": "markdown",
   "id": "addbe361-a47f-4a34-a83b-56f571ea2cf7",
   "metadata": {},
   "source": [
    "### RMSE"
   ]
  },
  {
   "cell_type": "code",
   "execution_count": null,
   "id": "d115ad6d",
   "metadata": {},
   "outputs": [],
   "source": [
    "rmse = np.sqrt(mean_squared_error(Y_train, Y_pred_train))\n",
    "print('Training RMSE : {:.2f}'.format(rmse))"
   ]
  },
  {
   "cell_type": "code",
   "execution_count": null,
   "id": "22e7c057",
   "metadata": {},
   "outputs": [],
   "source": [
    "rmse = np.sqrt(mean_squared_error(Y_test, Y_pred_test))\n",
    "print('Test RMSE : {:.2f}'.format(rmse))"
   ]
  },
  {
   "cell_type": "markdown",
   "id": "03ae0eac",
   "metadata": {},
   "source": [
    "### Exp-Predict Plot"
   ]
  },
  {
   "cell_type": "code",
   "execution_count": null,
   "id": "6a93aff5",
   "metadata": {},
   "outputs": [],
   "source": [
    "#Vertical plot\n",
    "plt.figure(figsize=(5,11))\n",
    "\n",
    "# 2 row, 1 column, plot 1\n",
    "plt.subplot(2, 1, 1)\n",
    "plt.scatter(x=Y_train, y=Y_pred_train, c=\"#7CAE00\", alpha=1)\n",
    "\n",
    "# Add trendline\n",
    "z = np.polyfit(Y_train, Y_pred_train, 1)\n",
    "p = np.poly1d(z)\n",
    "plt.plot(Y_test,p(Y_test),\"#F8766D\")\n",
    "\n",
    "plt.xlabel('Experimental LogS', fontsize=13)\n",
    "plt.ylabel('Predicted LogS', fontsize=13)\n",
    "\n",
    "\n",
    "# 2 row, 1 column, plot 2\n",
    "plt.subplot(2, 1, 2)\n",
    "plt.scatter(x=Y_test, y=Y_pred_test, c=\"#619CFF\", alpha=1)\n",
    "\n",
    "z = np.polyfit(Y_test, Y_pred_test, 1)\n",
    "p = np.poly1d(z)\n",
    "plt.plot(Y_test,p(Y_test),\"#F8766D\")\n",
    "\n",
    "plt.ylabel('Predicted LogS', fontsize=13)\n",
    "plt.xlabel('Experimental LogS', fontsize=13)\n",
    "\n",
    "# 出力\n",
    "#plt.savefig('output/plot_vertical_logS_descriptor_MLR.png',dpi=300)\n",
    "#plt.savefig('output/paper_logS_descriptor_MLR.pdf',dpi=300)\n",
    "\n",
    "plt.show()"
   ]
  },
  {
   "cell_type": "markdown",
   "id": "8e2c5b52-f486-41fd-b670-837818be80bc",
   "metadata": {},
   "source": [
    "### 2-2.ランダムフォレスト回帰（RFR）"
   ]
  },
  {
   "cell_type": "code",
   "execution_count": null,
   "id": "f614a9fc",
   "metadata": {},
   "outputs": [],
   "source": [
    "from sklearn.ensemble import RandomForestRegressor"
   ]
  },
  {
   "cell_type": "code",
   "execution_count": null,
   "id": "ef384139",
   "metadata": {},
   "outputs": [],
   "source": [
    "%%time\n",
    "model = RandomForestRegressor(n_estimators=100, random_state=42)\n",
    "model.fit(X_train, Y_train)"
   ]
  },
  {
   "cell_type": "markdown",
   "id": "be104367-5bb0-4fbe-98e2-ccb905da8432",
   "metadata": {},
   "source": [
    "【解説】scikit-learnの`RandomForestRegressor`  \n",
    "\n",
    "ランダムフォレスト（Random Forest）アルゴリズムを使用した回帰モデルを実装するためのクラスです。ランダムフォレストは、多くの決定木（Decision Trees）を組み合わせて、回帰タスクや分類タスクなどさまざまな機械学習タスクに対処する強力なアンサンブル学習アルゴリズムです。\n",
    "\n",
    "以下は、`RandomForestRegressor`の基本的な使い方です：\n",
    "\n",
    "1. `RandomForestRegressor`をインポートします。\n",
    "\n",
    "```python\n",
    "from sklearn.ensemble import RandomForestRegressor\n",
    "```\n",
    "\n",
    "2. `RandomForestRegressor`オブジェクトを作成します。必要なパラメータを指定することができますが、デフォルト値でも動作します。\n",
    "\n",
    "```python\n",
    "model = RandomForestRegressor(n_estimators=100, random_state=0)\n",
    "```\n",
    "\n",
    "- `n_estimators`: ランダムフォレスト内の決定木の数を指定します。一般的に、多くの木を使用するとモデルの性能が向上しますが、計算コストも増加します。\n",
    "- `random_state`: ランダムな要素を制御するためのシード値を指定します。同じシード値を使用すると、再現可能な結果を得ることができます。\n",
    "\n",
    "3. モデルを訓練データに適合させます。訓練データには説明変数（特徴量）と連続値の応答変数が含まれています。\n",
    "\n",
    "```python\n",
    "model.fit(X_train, y_train)\n",
    "```\n",
    "\n",
    "4. モデルが訓練データに適合したら、訓練データに対する予測を行うことができます。\n",
    "\n",
    "```python\n",
    "y_pred = model.predict(X_train)\n",
    "```\n",
    "\n",
    "5. モデルの性能を評価したり、新しいデータポイントに対する予測を行ったりする際に、モデルの機能や特性にアクセスできます。たとえば、各特徴量の重要度を評価するために`feature_importances_`属性を使用できます。\n",
    "\n",
    "```python\n",
    "feature_importance = model.feature_importances_\n",
    "```\n",
    "\n",
    "ランダムフォレストは、過剰適合（Overfitting）に強く、多くのハイパーパラメータ調整が不要な優れたモデルです。多くの決定木を組み合わせるため、個々の決定木の過剰適合が相殺され、安定した予測性能を提供します。また、ランダムフォレストは特徴量の重要度の推定や外れ値の処理にも役立ちます。"
   ]
  },
  {
   "cell_type": "markdown",
   "id": "de00b823-ded5-4c75-af5b-efbe46f8018f",
   "metadata": {},
   "source": [
    "### R2スコア"
   ]
  },
  {
   "cell_type": "code",
   "execution_count": null,
   "id": "69f73f88-b322-4a96-87f9-907ad11c17c2",
   "metadata": {},
   "outputs": [],
   "source": [
    "Y_pred_train = model.predict(X_train)\n",
    "\n",
    "print('Mean squared error (MSE): %.2f'\n",
    "      % mean_squared_error(Y_train, Y_pred_train,squared=False))\n",
    "\n",
    "print('Coefficient of determination (R^2): %.2f'\n",
    "      % r2_score(Y_train, Y_pred_train))"
   ]
  },
  {
   "cell_type": "code",
   "execution_count": null,
   "id": "9e0afd4c",
   "metadata": {},
   "outputs": [],
   "source": [
    "Y_pred_test = model.predict(X_test)\n",
    "\n",
    "print('Mean squared error (MSE): %.2f'\n",
    "      % mean_squared_error(Y_test, Y_pred_test,squared=False))\n",
    "\n",
    "print('Coefficient of determination (R^2): %.2f'\n",
    "      % r2_score(Y_test, Y_pred_test))"
   ]
  },
  {
   "cell_type": "markdown",
   "id": "52fe9540-571e-4430-b842-1341b5100b88",
   "metadata": {},
   "source": [
    "### MAE"
   ]
  },
  {
   "cell_type": "code",
   "execution_count": null,
   "id": "91daa342",
   "metadata": {},
   "outputs": [],
   "source": [
    "mae = mean_absolute_error(Y_train, Y_pred_train)\n",
    "print('Training MAE : {:.2f}'.format(mae))"
   ]
  },
  {
   "cell_type": "code",
   "execution_count": null,
   "id": "4225c07d",
   "metadata": {},
   "outputs": [],
   "source": [
    "mae = mean_absolute_error(Y_test, Y_pred_test)\n",
    "print('Test MAE : {:.2f}'.format(mae))"
   ]
  },
  {
   "cell_type": "markdown",
   "id": "3990834f-af5b-430d-bbc7-9136d2b53972",
   "metadata": {},
   "source": [
    "### RMSE"
   ]
  },
  {
   "cell_type": "code",
   "execution_count": null,
   "id": "74219939",
   "metadata": {},
   "outputs": [],
   "source": [
    "rmse = np.sqrt(mean_squared_error(Y_train, Y_pred_train))\n",
    "print('Training RMSE : {:.2f}'.format(rmse))"
   ]
  },
  {
   "cell_type": "code",
   "execution_count": null,
   "id": "8ab7cd68",
   "metadata": {},
   "outputs": [],
   "source": [
    "rmse = np.sqrt(mean_squared_error(Y_test, Y_pred_test))\n",
    "print('Test RMSE : {:.2f}'.format(rmse))"
   ]
  },
  {
   "cell_type": "markdown",
   "id": "425fc751",
   "metadata": {},
   "source": [
    "### Exp-Predict Plot"
   ]
  },
  {
   "cell_type": "code",
   "execution_count": null,
   "id": "a41ab9fd",
   "metadata": {
    "scrolled": true
   },
   "outputs": [],
   "source": [
    "#Vertical plot\n",
    "plt.figure(figsize=(5,11))\n",
    "\n",
    "# 2 row, 1 column, plot 1\n",
    "plt.subplot(2, 1, 1)\n",
    "plt.scatter(x=Y_train, y=Y_pred_train, c=\"#7CAE00\", alpha=1)\n",
    "\n",
    "# Add trendline\n",
    "z = np.polyfit(Y_train, Y_pred_train, 1)\n",
    "p = np.poly1d(z)\n",
    "plt.plot(Y_test,p(Y_test),\"#F8766D\")\n",
    "\n",
    "plt.xlabel('Experimental LogS', fontsize=13)\n",
    "plt.ylabel('Predicted LogS', fontsize=13)\n",
    "\n",
    "\n",
    "# 2 row, 1 column, plot 2\n",
    "plt.subplot(2, 1, 2)\n",
    "plt.scatter(x=Y_test, y=Y_pred_test, c=\"#619CFF\", alpha=1)\n",
    "\n",
    "z = np.polyfit(Y_test, Y_pred_test, 1)\n",
    "p = np.poly1d(z)\n",
    "plt.plot(Y_test,p(Y_test),\"#F8766D\")\n",
    "\n",
    "plt.ylabel('Predicted LogS', fontsize=13)\n",
    "plt.xlabel('Experimental LogS', fontsize=13)\n",
    "\n",
    "# 出力\n",
    "#plt.savefig('output/plot_vertical_logS_descriptor_RF.png',dpi=300)\n",
    "#plt.savefig('output/paper_logS_descriptor_RF.pdf',dpi=300)\n",
    "\n",
    "plt.show()"
   ]
  },
  {
   "cell_type": "markdown",
   "id": "a2c16aff-9894-42a6-a5d1-e9458bc7ea09",
   "metadata": {},
   "source": [
    "### 3. SHAP計算\n",
    "\n",
    "「SHAP（SHapley Additive exPlanations）」は、特徴量の寄与度を計算するための統計的手法であり、機械学習モデルの予測を解釈するために使用されます。SHAP値は、特徴量ごとに予測に対する貢献度を示すため、モデルの予測がどの特徴量によって説明されているかを理解するのに役立ちます。\n",
    "\n",
    "【参考】Mordredの記述子の種類  \n",
    "https://mordred-descriptor.github.io/documentation/master/descriptors.html"
   ]
  },
  {
   "cell_type": "code",
   "execution_count": null,
   "id": "a322dc97",
   "metadata": {},
   "outputs": [],
   "source": [
    "import shap"
   ]
  },
  {
   "cell_type": "code",
   "execution_count": null,
   "id": "1c913ccc",
   "metadata": {},
   "outputs": [],
   "source": [
    "%%time\n",
    "explainer = shap.Explainer(model)\n",
    "shap_values = explainer(X_test)"
   ]
  },
  {
   "cell_type": "markdown",
   "id": "bfbf40e9-8080-4db9-ad3d-253603cf9fba",
   "metadata": {},
   "source": [
    "【解説】SHAP値を計算するためのライブラリとして「SHAP」があり、ケモインフォマテックス（Chemoinformatics）の分野でも利用されます。\n",
    "\n",
    "SHAP計算の基本的な手順は以下の通りです：\n",
    "\n",
    "1. 必要なライブラリをインポートします。\n",
    "\n",
    "```python\n",
    "import shap\n",
    "```\n",
    "\n",
    "2. SHAP値を計算したいモデルとデータを準備します。データは特徴量（特性）とその対応するターゲット（予測対象）を含む必要があります。モデルは、対象となる予測モデルです。\n",
    "\n",
    "```python\n",
    "# モデルを訓練済みモデルに置き換える\n",
    "model = trained_model\n",
    "data = X_test  # テストデータ\n",
    "```\n",
    "\n",
    "3. SHAP Explainerを作成します。SHAPライブラリでは、さまざまなモデルに対応するExplainerが提供されています。例えば、ツリーベースのモデルには`TreeExplainer`を、線形モデルには`LinearExplainer`を使用できます。\n",
    "\n",
    "```python\n",
    "explainer = shap.Explainer(model, data)\n",
    "```\n",
    "\n",
    "4. `shap_values`メソッドを使用してSHAP値を計算します。このメソッドは、各特徴量ごとに各データポイントに対するSHAP値を計算します。\n",
    "\n",
    "```python\n",
    "shap_values = explainer.shap_values(data)\n",
    "```\n",
    "\n",
    "5. SHAP値の可視化や解釈を行います。SHAP値を可視化することで、各特徴量が予測にどの程度影響を与えているかを理解できます。SHAP値のプロットや要約統計を生成して、モデルの予測を説明するのに役立ちます。\n",
    "\n",
    "```python\n",
    "shap.summary_plot(shap_values, data, feature_names=feature_names)\n",
    "```"
   ]
  },
  {
   "cell_type": "markdown",
   "id": "91eb6a13",
   "metadata": {},
   "source": [
    "### Global bar plot"
   ]
  },
  {
   "cell_type": "code",
   "execution_count": null,
   "id": "fdec1669",
   "metadata": {},
   "outputs": [],
   "source": [
    "shap.summary_plot(shap_values, \n",
    "                  X_test, \n",
    "                  plot_type=\"bar\",\n",
    "                  show=False,\n",
    "                  max_display=10,\n",
    "                  plot_size=0.5\n",
    "                 )"
   ]
  },
  {
   "cell_type": "code",
   "execution_count": null,
   "id": "99dc4526",
   "metadata": {},
   "outputs": [],
   "source": [
    "shap.plots.bar(shap_values, \n",
    "               max_display=10,\n",
    "               show=False\n",
    "              )"
   ]
  },
  {
   "cell_type": "markdown",
   "id": "5ec3eb76",
   "metadata": {},
   "source": [
    "### beeswarm plot"
   ]
  },
  {
   "cell_type": "code",
   "execution_count": null,
   "id": "dc75a911",
   "metadata": {},
   "outputs": [],
   "source": [
    "shap.summary_plot(shap_values, plot_type=\"dot\", \n",
    "                  plot_size=0.6, \n",
    "                  show=False,\n",
    "                  max_display=10\n",
    "                 )"
   ]
  },
  {
   "cell_type": "markdown",
   "id": "c18a3f75",
   "metadata": {},
   "source": [
    "### waterfall plot"
   ]
  },
  {
   "cell_type": "code",
   "execution_count": null,
   "id": "d75f151e-837d-4ec1-8020-5a2b85c3d65f",
   "metadata": {},
   "outputs": [],
   "source": [
    "shap.plots.waterfall(shap_values[0]) "
   ]
  },
  {
   "cell_type": "markdown",
   "id": "9db8b8a6-5007-420d-a770-f94198fdba8c",
   "metadata": {},
   "source": [
    "### 4.ブラインドテスト\n",
    "Additional Fileとして提供されているtestexperiment2upload2raw.csvでの事例です。All_Mordred_descriptors()のユーザー関数よりMordred記述子を得た後に、177記述子への枝狩りを行ったあとにRFR予測器にかけて評価します。"
   ]
  },
  {
   "cell_type": "markdown",
   "id": "b1128e9b-847a-4cfe-962c-7725975369ab",
   "metadata": {},
   "source": [
    "### ブラインドテスト 1"
   ]
  },
  {
   "cell_type": "code",
   "execution_count": null,
   "id": "91a7b86f",
   "metadata": {},
   "outputs": [],
   "source": [
    "#Blind test\n",
    "testdata2 = pd.read_csv('data/testexperiment2upload2raw.csv')"
   ]
  },
  {
   "cell_type": "code",
   "execution_count": null,
   "id": "5efcc1e9",
   "metadata": {},
   "outputs": [],
   "source": [
    "def All_Mordred_descriptors(data):\n",
    "    calc = Calculator(descriptors, ignore_3D=True)\n",
    "    mols = [Chem.MolFromSmiles(smi) for smi in data]\n",
    "    \n",
    "    # pandas df\n",
    "    df = calc.pandas(mols)\n",
    "    return df"
   ]
  },
  {
   "cell_type": "code",
   "execution_count": null,
   "id": "c170b006",
   "metadata": {},
   "outputs": [],
   "source": [
    "mordred_descriptors2 = All_Mordred_descriptors(testdata2['SMILES'])"
   ]
  },
  {
   "cell_type": "code",
   "execution_count": null,
   "id": "a1b540a2",
   "metadata": {},
   "outputs": [],
   "source": [
    "# 166項目のカラムリスト\n",
    "gf = X.columns.to_list()"
   ]
  },
  {
   "cell_type": "code",
   "execution_count": null,
   "id": "758d62d0-bff5-4bef-85d6-a9bbcea40e41",
   "metadata": {},
   "outputs": [],
   "source": [
    "# 166項目への絞り込み\n",
    "Xnew2 = mordred_descriptors2[list(gf)]\n",
    "Xnew2.shape"
   ]
  },
  {
   "cell_type": "code",
   "execution_count": null,
   "id": "e37edfc3",
   "metadata": {},
   "outputs": [],
   "source": [
    "# 予測値の出力\n",
    "ynew2 = model.predict(Xnew2)\n",
    "ynew2"
   ]
  },
  {
   "cell_type": "markdown",
   "id": "d241cbac",
   "metadata": {},
   "source": [
    "### 記述子の出力保存"
   ]
  },
  {
   "cell_type": "code",
   "execution_count": null,
   "id": "db159c0e",
   "metadata": {},
   "outputs": [],
   "source": [
    "Xnew2.to_excel('output/file name descriptor 32data_descripter.xlsx', index = False)"
   ]
  },
  {
   "cell_type": "markdown",
   "id": "6705c0df",
   "metadata": {},
   "source": [
    "### ブラインドテスト 2\n",
    "Additional Fileとして、もう一つ提供されているtestexperiment2upload3raw.csvでの事例です。コードパターンには変更はありません。"
   ]
  },
  {
   "cell_type": "code",
   "execution_count": null,
   "id": "2b6337b7",
   "metadata": {},
   "outputs": [],
   "source": [
    "#Solubility Challenge\n",
    "testdata3 = pd.read_csv('data/testexperiment2upload3raw.csv')"
   ]
  },
  {
   "cell_type": "code",
   "execution_count": null,
   "id": "c943ea07",
   "metadata": {},
   "outputs": [],
   "source": [
    "mordred_descriptors3 = All_Mordred_descriptors(testdata3['SMILES'])"
   ]
  },
  {
   "cell_type": "code",
   "execution_count": null,
   "id": "ec629e70-0149-4bea-a5b1-67f6c2a7040a",
   "metadata": {},
   "outputs": [],
   "source": [
    "Xnew3 = mordred_descriptors3[list(gf)]\n",
    "Xnew3.shape"
   ]
  },
  {
   "cell_type": "code",
   "execution_count": null,
   "id": "33741a8a",
   "metadata": {},
   "outputs": [],
   "source": [
    "ynew3 = model.predict(Xnew3)\n",
    "ynew3"
   ]
  },
  {
   "cell_type": "markdown",
   "id": "e11f2b30",
   "metadata": {},
   "source": [
    "### 予測値の出力保存\n",
    "上記のynew3の値をcsvで出力する方法として、numpyの`asarray()`メソッドでarray化したあとに`savetxt()`メソッドで出力する方法が紹介されています。csvでsaveする方法はpandasのdataframeからも行えるなど、幾つかの方法があります。"
   ]
  },
  {
   "cell_type": "code",
   "execution_count": null,
   "id": "76fb2a44",
   "metadata": {},
   "outputs": [],
   "source": [
    "# define data\n",
    "data = np.asarray(ynew3)\n",
    "\n",
    "# save to csv file\n",
    "np.savetxt('output/data_mordred.csv', data, delimiter=',')"
   ]
  }
 ],
 "metadata": {
  "kernelspec": {
   "display_name": "Python 3 (ipykernel)",
   "language": "python",
   "name": "python3"
  },
  "language_info": {
   "codemirror_mode": {
    "name": "ipython",
    "version": 3
   },
   "file_extension": ".py",
   "mimetype": "text/x-python",
   "name": "python",
   "nbconvert_exporter": "python",
   "pygments_lexer": "ipython3",
   "version": "3.8.17"
  }
 },
 "nbformat": 4,
 "nbformat_minor": 5
}
